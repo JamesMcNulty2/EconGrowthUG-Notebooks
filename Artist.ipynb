{
 "cells": [
  {
   "cell_type": "code",
   "execution_count": 11,
   "id": "004a9d04-6703-4a60-a332-6c864066faf0",
   "metadata": {},
   "outputs": [
    {
     "name": "stdout",
     "output_type": "stream",
     "text": [
      "Rainbow\n",
      "Cookie\n",
      "Lawnmower\n",
      "Good Song\n",
      "Random Word\n",
      "Vroom\n",
      "Yessir\n",
      "Oh yeah\n",
      "Country road\n",
      "Song 3\n"
     ]
    }
   ],
   "source": [
    "favorite_artists = ['The Beatles', 'Marshmello', 'Lil Wayne', 'Flume', 'Lorde', 'Quinn', 'Cars', 'Pink Floyd', 'Juice Wrld', 'Lil Keed']\n",
    "favorite_songs = ['Rainbow', 'Cookie', 'Lawnmower', 'Good Song', 'Random Word', 'Vroom', 'Yessir', 'Oh yeah', 'Country road', 'Song 3']\n",
    "artists_best_song = { 'The Beatles':'Rainbow',\n",
    "                       'Marshmello':'Cookie',\n",
    "                       'Lil Wayne':'Lawnmower',\n",
    "                       'Flume':'Good Song',\n",
    "                       'Lorde':'Random Word',\n",
    "                       'Quinn':'Vroom',\n",
    "                       'Cars':'Yessir',\n",
    "                       'Pink Floyd':'Oh yeah',\n",
    "                       'Juice Wrld':'Country road',\n",
    "                       'Lil Keed':'Song 3'\n",
    "                      }\n",
    "favorite_song_artist = { 'Rainbow':'The Beatles',\n",
    "                       'Cookie':'Marshmello',\n",
    "                       'Lawnmower':'Lil Wayne',\n",
    "                       'Good Song':'Flume',\n",
    "                       'Random Word':'Lorde',\n",
    "                       'Quinn':'Vroom',\n",
    "                       'Cars':'Yessir',\n",
    "                       'Pink Floyd':'Oh yeah',\n",
    "                       'Juice Wrld':'Country road',\n",
    "                       'Lil Keed':'Song 3',\n",
    "                      }\n",
    "for artist in artists_best_song:\n",
    "        print(artists_best_song[artist]) \n",
    "        "
   ]
  },
  {
   "cell_type": "code",
   "execution_count": null,
   "id": "8aa01aab-a51f-4932-91d5-7ebf2bdf1879",
   "metadata": {},
   "outputs": [],
   "source": []
  },
  {
   "cell_type": "code",
   "execution_count": null,
   "id": "e9a6d6f1-bff5-4d57-923a-4951f746a0b2",
   "metadata": {},
   "outputs": [],
   "source": []
  }
 ],
 "metadata": {
  "kernelspec": {
   "display_name": "Python 3 (ipykernel)",
   "language": "python",
   "name": "python3"
  },
  "language_info": {
   "codemirror_mode": {
    "name": "ipython",
    "version": 3
   },
   "file_extension": ".py",
   "mimetype": "text/x-python",
   "name": "python",
   "nbconvert_exporter": "python",
   "pygments_lexer": "ipython3",
   "version": "3.9.12"
  }
 },
 "nbformat": 4,
 "nbformat_minor": 5
}
